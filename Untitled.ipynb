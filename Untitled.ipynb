{
 "cells": [
  {
   "cell_type": "markdown",
   "metadata": {},
   "source": [
    "# Analyzation of the current COVID-19 outbreak"
   ]
  },
  {
   "cell_type": "markdown",
   "metadata": {},
   "source": [
    "## Getting the data we need\n",
    "First import all the data. The data set is taken from the public git-repository: https://github.com/CSSEGISandData/COVID-19"
   ]
  },
  {
   "cell_type": "code",
   "execution_count": null,
   "metadata": {},
   "outputs": [],
   "source": [
    "import numpy as np\n",
    "import pandas as pd\n",
    "import matplotlib.pyplot as plt\n",
    "import csv\n",
    "\n",
    "cases_ts = pd.read_csv(\"COVID-19/csse_covid_19_data/csse_covid_19_time_series/time_series_19-covid-Confirmed.csv\")\n",
    "deaths_ts = pd.read_csv(\"COVID-19/csse_covid_19_data/csse_covid_19_time_series/time_series_19-covid-Deaths.csv\")\n",
    "recovered_ts = pd.read_csv(\"COVID-19/csse_covid_19_data/csse_covid_19_time_series/time_series_19-covid-Recovered.csv\")"
   ]
  },
  {
   "cell_type": "markdown",
   "metadata": {},
   "source": [
    "Group the data such that numbers for the whole country are reported. We also do not need the coordinates."
   ]
  },
  {
   "cell_type": "code",
   "execution_count": null,
   "metadata": {},
   "outputs": [],
   "source": [
    "cases_ts = cases_ts.groupby(['Country/Region']).sum()\n",
    "cases_ts = cases_ts.drop(columns=['Lat', 'Long'])\n",
    "deaths_ts = deaths_ts.groupby(['Country/Region']).sum()\n",
    "deaths_ts = deaths_ts.drop(columns=['Lat', 'Long'])\n",
    "recovered_ts = recovered_ts.groupby(['Country/Region']).sum()\n",
    "recovered_ts = recovered_ts.drop(columns=['Lat', 'Long'])\n",
    "\n",
    "active_ts = cases_ts - (deaths_ts + recovered_ts)"
   ]
  },
  {
   "cell_type": "markdown",
   "metadata": {},
   "source": [
    "Ok, of course now we also want to see some stuff. I'll just define a function that allowes us to print a timeseries for a set of predefined countries."
   ]
  },
  {
   "cell_type": "code",
   "execution_count": null,
   "metadata": {},
   "outputs": [],
   "source": [
    "def plot_ts(ts, countries, title='', xlabel='', ylabel=''):\n",
    "    for c in countries_to_plot:\n",
    "        ts.loc[c].plot(figsize=(14,6))\n",
    "    plt.title(title)\n",
    "    plt.legend(countries_to_plot)\n",
    "    plt.ylabel(ylabel)\n",
    "    plt.xlabel(xlabel)\n",
    "    plt.show()\n",
    "    "
   ]
  },
  {
   "cell_type": "markdown",
   "metadata": {},
   "source": [
    "Now let's finally plot the timeseries for our choosen countries:"
   ]
  },
  {
   "cell_type": "code",
   "execution_count": null,
   "metadata": {},
   "outputs": [],
   "source": [
    "countries_to_plot = ['Austria', 'Netherlands', 'Germany', 'Italy']\n",
    "plot_ts(active_ts, countries_to_plot, title='Active Cases', ylabel='Cases', xlabel='Date')"
   ]
  },
  {
   "cell_type": "markdown",
   "metadata": {},
   "source": [
    "As you can guess, these are all absolute numbers. But maybe the absolute numbers are not as informative about how much a specific country is affected. A better measure for this is the measure of *cases per capita*. So how many cases there are for each person living in the country.\n",
    "\n",
    "To calculate this ratio we need to get the population of each country and normalize the amount of cases with this number. For this we use the dataset provided by the World Bank with the population numbers of 2015. https://data.world/worldbank/total-population-per-country (Some country names had to be adjusted to fit the other dataset)"
   ]
  },
  {
   "cell_type": "code",
   "execution_count": null,
   "metadata": {},
   "outputs": [],
   "source": [
    "population = pd.read_csv(\"population.csv\", sep=';').loc[:, ['Country Name', '2015']].set_index('Country Name')"
   ]
  },
  {
   "cell_type": "markdown",
   "metadata": {},
   "source": [
    "With this dataset we can now normalize the cases to a *per 1.000.000 people* measure."
   ]
  },
  {
   "cell_type": "code",
   "execution_count": null,
   "metadata": {},
   "outputs": [],
   "source": [
    "def norm_ts(ts):\n",
    "    norm_dataframe = pd.DataFrame(columns=ts.columns)\n",
    "    for country_name, cases in ts.iterrows():\n",
    "        try:\n",
    "            norm_dataframe.loc[country_name] = ts.loc[country_name].div(population.loc[country_name]['2015']/1000000)\n",
    "        except KeyError:\n",
    "            # print(\"Data for \" + str(country_name) + \" could not be retrieved\")\n",
    "            pass\n",
    "        \n",
    "    return norm_dataframe"
   ]
  },
  {
   "cell_type": "code",
   "execution_count": null,
   "metadata": {},
   "outputs": [],
   "source": [
    "countries_to_plot = ['Mainland China', 'Netherlands', 'Austria']\n",
    "norm_active_ts = norm_ts(active_ts)\n",
    "plot_ts(norm_active_ts.loc[:, '2/29/20':'3/10/20'], countries_to_plot, title='Active Cases per 100.000\\n 21.02 - 10.03', xlabel='Date', ylabel='Active Cases per Capita')"
   ]
  },
  {
   "cell_type": "markdown",
   "metadata": {},
   "source": [
    "## Taking a closer look into the dynamics of the outbreak\n",
    "From the plot of the data we can already see some differences between countries. But we want to be able to compare the dynamics of the outbreak even better. Therefore we want to compare the data between countries w.r.t. the day the first case was observed. \n",
    "\n",
    "We define a method that plot that part of the data for the countries we choose starting from the day the observed cases reach a threshold T (per mio. inhabitants)."
   ]
  },
  {
   "cell_type": "code",
   "execution_count": null,
   "metadata": {},
   "outputs": [],
   "source": [
    "def plot_thresholded_ts(ts, country_names, T, title='', xlabel='', ylabel=''):\n",
    "    serieses = []\n",
    "    plt.figure(figsize=(14,6))\n",
    "    for c in country_names:\n",
    "        curr_country_ts = np.asarray(ts.loc[c])[ts.loc[c].values > T]\n",
    "        plt.plot(curr_country_ts)\n",
    "   \n",
    "    plt.title(title)\n",
    "    plt.xlabel(xlabel)\n",
    "    plt.ylabel(ylabel)\n",
    "    plt.legend(country_names)\n",
    "    plt.show()\n",
    "        \n",
    "    return serieses"
   ]
  },
  {
   "cell_type": "markdown",
   "metadata": {},
   "source": [
    "Here are some plots that might be interesting:"
   ]
  },
  {
   "cell_type": "code",
   "execution_count": null,
   "metadata": {},
   "outputs": [],
   "source": [
    "country_names = ['Italy', 'Netherlands', 'Germany', 'Austria', 'Switzerland']\n",
    "plot_thresholded_ts(norm_ts(cases_ts), country_names, 1, title='Growth of infected cases\\n starting form the day 1 of a million\\n inhabitants were infected', xlabel='Days since outbreak', ylabel='cases per million inhabitants')\n",
    "\n",
    "country_names = ['Italy', 'Mainland China', 'Iran (Islamic Republic of)', 'Republic of Korea', 'Singapore', 'Japan']\n",
    "plot_thresholded_ts(norm_ts(recovered_ts), country_names, 0.1, title='Growth of recoveries starting\\n from the day 1 of 100.000 inhabitants\\n recovered', xlabel='Days since start of recovery', ylabel='recoveries per million inhabitants')\n",
    "\n",
    "country_names = ['Italy', 'Mainland China', 'Iran (Islamic Republic of)', 'Republic of Korea', 'Spain']\n",
    "plot_thresholded_ts(norm_ts(deaths_ts), country_names, 0.01, title='Growth of deaths starting\\n from the day 1 of 10.000 inhabitants died', xlabel='Day since first death in 10.000 inhabitants', ylabel='deaths per million inhabitants')"
   ]
  }
 ],
 "metadata": {
  "kernelspec": {
   "display_name": "Python 3",
   "language": "python",
   "name": "python3"
  },
  "language_info": {
   "codemirror_mode": {
    "name": "ipython",
    "version": 3
   },
   "file_extension": ".py",
   "mimetype": "text/x-python",
   "name": "python",
   "nbconvert_exporter": "python",
   "pygments_lexer": "ipython3",
   "version": "3.7.3"
  }
 },
 "nbformat": 4,
 "nbformat_minor": 2
}
